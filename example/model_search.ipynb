{
 "cells": [
  {
   "cell_type": "code",
   "execution_count": 1,
   "metadata": {
    "scrolled": true
   },
   "outputs": [
    {
     "name": "stderr",
     "output_type": "stream",
     "text": [
      "/Users/f-minkin/.pyenv/versions/3.6.2/lib/python3.6/site-packages/sklearn/cross_validation.py:41: DeprecationWarning: This module was deprecated in version 0.18 in favor of the model_selection module into which all the refactored classes and functions are moved. Also note that the interface of the new CV iterators are different from that of this module. This module will be removed in 0.20.\n",
      "  \"This module will be removed in 0.20.\", DeprecationWarning)\n"
     ]
    }
   ],
   "source": [
    "import functools\n",
    "import itertools\n",
    "import modelgym\n",
    "import numpy as np\n",
    "import os\n",
    "import pickle\n",
    "\n",
    "from collections import OrderedDict\n",
    "from hyperopt.mongoexp import MongoTrials\n",
    "from sklearn.metrics import roc_auc_score\n",
    "from sklearn.model_selection import train_test_split\n",
    "\n",
    "from modelgym.metric import RocAuc, Accuracy\n",
    "from modelgym.tracker import ProgressTrackerFile, ProgressTrackerMongo\n",
    "from modelgym.trainer import Trainer\n",
    "from modelgym.util import TASK_CLASSIFICATION, split_and_preprocess"
   ]
  },
  {
   "cell_type": "code",
   "execution_count": 2,
   "metadata": {},
   "outputs": [
    {
     "name": "stdout",
     "output_type": "stream",
     "text": [
      "Using File as backend for tracking\n",
      "Running experiment cofiguration: test\n"
     ]
    }
   ],
   "source": [
    "########### NROWS, N_ESTIMATORS, N_PROBES, TEST_SIZE, N_CV_SPLITS, OPTIMIZER\n",
    "config_tuple = {\n",
    "    'test': (1000, 100,  2, 0.5, 2, 'random'),\n",
    "    'pror': (None, 1000, 100, 0.5, 2, 'random'), # production with random hyperopt suggestor\n",
    "    'prot': (None, 1000, 100, 0.5, 2, 'tpe'),    # production with tpe hyperopt suggestor\n",
    "    'demi': (10000, 100, 5, 0.5, 2, 'random')\n",
    "}\n",
    "CONFIG = 'test' if 'EXP_CONFIG' not in os.environ else os.environ['EXP_CONFIG']\n",
    "NROWS, N_ESTIMATORS, N_PROBES, TEST_SIZE, N_CV_SPLITS, OPTIMIZER = config_tuple[CONFIG]\n",
    "CANDIDATES = OrderedDict([\n",
    "    ('XGBoost', modelgym.XGBModel), \n",
    "    ('LightGBM', modelgym.LGBModel),\n",
    "    ('RandomForestClassifier', modelgym.RFModel)\n",
    "])\n",
    "RESULTS_DIR = \"results\"\n",
    "LOAD_CACHE = False\n",
    "if 'MONGO_PORT_27017_TCP_ADDR' in os.environ:\n",
    "    mongo_host = os.environ['MONGO_PORT_27017_TCP_ADDR'] if 'MONGO_PORT_27017_TCP_ADDR' in os.environ else 'cern-mc01h'\n",
    "    mongo_port = int(os.environ['MONGO_PORT_27017_TCP_PORT']) if 'MONGO_PORT_27017_TCP_PORT' in os.environ else 27017\n",
    "    mongo_db = os.environ['MONGO_DB'] if 'MONGO_DB' in os.environ else 'trials'\n",
    "    tracker_factory = functools.partial(ProgressTrackerMongo, mongo_host, mongo_port, mongo_db, config_key=CONFIG)\n",
    "    print (\"Using Mongo as backend for tracking\")\n",
    "else:\n",
    "    tracker_factory = functools.partial(ProgressTrackerFile, RESULTS_DIR, config_key=CONFIG)\n",
    "    print (\"Using File as backend for tracking\")\n",
    "\n",
    "print (\"Running experiment cofiguration:\", CONFIG)"
   ]
  },
  {
   "cell_type": "markdown",
   "metadata": {},
   "source": [
    "## Download & read data file"
   ]
  },
  {
   "cell_type": "code",
   "execution_count": 3,
   "metadata": {},
   "outputs": [
    {
     "name": "stdout",
     "output_type": "stream",
     "text": [
      "total 266224\n",
      "-rw-r--r--  1 f-minkin  LD\\Domain Users  136304022 Nov 13 02:57 XY2d.pickle\n"
     ]
    }
   ],
   "source": [
    "%%bash \n",
    "if [ ! -d data ] ; then \n",
    "    mkdir data \n",
    "    cd data\n",
    "    curl https://cernbox.cern.ch/index.php/s/N1dpSAPgl30szYM/download | gunzip -c > XY2d.pickle\n",
    "    cd ..\n",
    "fi\n",
    "ls -l data"
   ]
  },
  {
   "cell_type": "code",
   "execution_count": 4,
   "metadata": {
    "collapsed": true
   },
   "outputs": [],
   "source": [
    "def read_data(fname, nrows=None, shuffle=True):\n",
    "    with open(fname,'rb') as fh:\n",
    "        X, y = pickle.load(fh,encoding='bytes')\n",
    "    index = np.arange(X.shape[0])\n",
    "    if nrows is None:\n",
    "        nrows = X.shape[0]\n",
    "    weights = np.ones(nrows) # uh, well...\n",
    "    if shuffle:\n",
    "        index_perm = np.random.permutation(index)\n",
    "    else:\n",
    "        index_perm = index\n",
    "    return X[index_perm[:nrows]], y[index_perm[:nrows]], weights\n",
    "\n",
    "\n",
    "X, y, weights = read_data(\"data/XY2d.pickle\", nrows=NROWS)"
   ]
  },
  {
   "cell_type": "code",
   "execution_count": 5,
   "metadata": {
    "collapsed": true
   },
   "outputs": [],
   "source": [
    "X_train, X_test, y_train, y_test, w_train, w_test = train_test_split(X, y, weights, test_size=TEST_SIZE)"
   ]
  },
  {
   "cell_type": "code",
   "execution_count": 6,
   "metadata": {
    "collapsed": true
   },
   "outputs": [],
   "source": [
    "cv_pairs, (dtrain, dtest) = split_and_preprocess(X_train.copy(), y_train, \n",
    "                                                X_test.copy(), y_test, \n",
    "                                                cat_cols=[], n_splits=N_CV_SPLITS)"
   ]
  },
  {
   "cell_type": "markdown",
   "metadata": {},
   "source": [
    "## Run them all"
   ]
  },
  {
   "cell_type": "code",
   "execution_count": 7,
   "metadata": {
    "collapsed": true
   },
   "outputs": [],
   "source": [
    "def init_keys_dict():\n",
    "    return dict(\n",
    "        [(k, {'default_cv': None, 'tuned_cv': None, 'default_test': None, 'tuned_test': None, 'trials': None}) for k in\n",
    "         CANDIDATES.keys()])\n",
    "\n",
    "\n",
    "trackers = {}\n",
    "custom_metrics = [RocAuc(), Accuracy()]\n",
    "all_metrics = init_keys_dict()\n",
    "trainer = Trainer(opt_evals=N_PROBES, n_estimators=N_ESTIMATORS)"
   ]
  },
  {
   "cell_type": "code",
   "execution_count": 8,
   "metadata": {},
   "outputs": [],
   "source": [
    "def gym_training(trainer, model, all_metrics, trackers, cv_pairs, dtrain, dtest, mode):\n",
    "    name = model.get_name()\n",
    "    metrics = all_metrics[name]\n",
    "    tracker = trackers[name]\n",
    "    cv_key = mode + \"_cv\"\n",
    "    test_key = mode + \"_test\"\n",
    "    if metrics[cv_key] is None:\n",
    "        if mode == \"default\":\n",
    "            metrics[cv_key] = trainer.crossval_fit_eval(model, cv_pairs,\n",
    "                                                        custom_metrics=custom_metrics)\n",
    "        elif mode == \"tuned\":\n",
    "            print('Hyperopt iterations:\\n\\n')\n",
    "            metrics[cv_key] = trainer.crossval_optimize_params(model, cv_pairs, algo_name=OPTIMIZER,\n",
    "                                                               trials=metrics['trials'],\n",
    "                                                               tracker=tracker, \n",
    "                                                               custom_metrics=custom_metrics)\n",
    "        else:\n",
    "            raise ValueError(\"{0} not expected\".format(mode))\n",
    "        tracker._update_state(metrics[cv_key])\n",
    "    trainer.print_result(metrics[cv_key], '{0} {1} result on CV'.format(mode, name),\n",
    "                         extra_keys=[metric.name for metric in custom_metrics])\n",
    "\n",
    "    if metrics[test_key] is None:\n",
    "        metrics[test_key] = trainer.fit_eval(model, dtrain, dtest,\n",
    "                                             metrics[cv_key]['params'],\n",
    "                                             metrics[cv_key]['best_n_estimators'],\n",
    "                                             custom_metrics=custom_metrics,\n",
    "                                             compute_additional_statistics=True)\n",
    "        tracker._update_state(metrics)\n",
    "    trainer.print_result(metrics[test_key], '{0} {1} result on TEST'.format(mode, name),\n",
    "                         extra_keys=[metric.name for metric in custom_metrics])"
   ]
  },
  {
   "cell_type": "code",
   "execution_count": 9,
   "metadata": {
    "scrolled": false
   },
   "outputs": [
    {
     "name": "stdout",
     "output_type": "stream",
     "text": [
      "\n",
      "~~~~~~~~~~~~~~~~~~~~ XGBoost ~~~~~~~~~~~~~~~~~~~~\n",
      "\n",
      "default XGBoost result on CV:\n",
      "\n",
      "loss = 0.37413947\n",
      "best_n_estimators = 1\n",
      "roc_auc = 0.766874\n",
      "accuracy = 0.880000\n",
      "params = {'base_score': 0.5, 'colsample_bylevel': 1, 'colsample_bytree': 1, 'gamma': 0, 'learning_rate': 0.1, 'max_delta_step': 0, 'max_depth': 3, 'min_child_weight': 1, 'missing': None, 'n_estimators': 100, 'nthread': -1, 'reg_alpha': 0, 'reg_lambda': 1, 'scale_pos_weight': 1, 'seed': 0, 'subsample': 1, 'objective': 'binary:logistic', 'eval_metric': 'logloss', 'silent': 1}\n",
      "\n",
      "default XGBoost result on TEST:\n",
      "\n",
      "loss = 0.642897\n",
      "n_estimators = 1\n",
      "roc_auc = 0.633497\n",
      "accuracy = 0.832000\n",
      "params = {'base_score': 0.5, 'colsample_bylevel': 1, 'colsample_bytree': 1, 'gamma': 0, 'learning_rate': 0.1, 'max_delta_step': 0, 'max_depth': 3, 'min_child_weight': 1, 'missing': None, 'n_estimators': 100, 'nthread': -1, 'reg_alpha': 0, 'reg_lambda': 1, 'scale_pos_weight': 1, 'seed': 0, 'subsample': 1, 'objective': 'binary:logistic', 'eval_metric': 'logloss', 'silent': 1}\n",
      "Hyperopt iterations:\n",
      "\n",
      "\n",
      "[1/2]\teval_time=0.18 sec\tcurrent_logloss=0.645989\tmin_logloss=0.645989\n",
      "[2/2]\teval_time=0.10 sec\tcurrent_logloss=0.517816\tmin_logloss=0.517816\n",
      "saved state to results/tracker_test_XGBoost.pickle\n",
      "\n",
      "tuned XGBoost result on CV:\n",
      "\n",
      "loss = 0.51781561\n",
      "best_n_estimators = 1\n",
      "roc_auc = 0.771158\n",
      "accuracy = 0.864000\n",
      "params = {'alpha': 0.000624361142368818, 'colsample_bylevel': 0.6278474089136892, 'colsample_bytree': 0.5292435929542255, 'eta': 0.45954327406619383, 'gamma': 0.0008064719242845735, 'lambdax': 1.5481980017877143e-06, 'max_depth': 5, 'min_child_weight': 4.1073662953607967e-07, 'subsample': 0.8513224962221795, 'objective': 'binary:logistic', 'eval_metric': 'logloss', 'silent': 1}\n",
      "\n",
      "tuned XGBoost result on TEST:\n",
      "\n",
      "loss = 0.519781\n",
      "n_estimators = 1\n",
      "roc_auc = 0.595521\n",
      "accuracy = 0.806000\n",
      "params = {'alpha': 0.000624361142368818, 'colsample_bylevel': 0.6278474089136892, 'colsample_bytree': 0.5292435929542255, 'eta': 0.45954327406619383, 'gamma': 0.0008064719242845735, 'lambdax': 1.5481980017877143e-06, 'max_depth': 5, 'min_child_weight': 4.1073662953607967e-07, 'subsample': 0.8513224962221795, 'objective': 'binary:logistic', 'eval_metric': 'logloss', 'silent': 1}\n",
      "saved state to results/tracker_test_XGBoost.pickle\n",
      "\n",
      "~~~~~~~~~~~~~~~~~~~~ LightGBM ~~~~~~~~~~~~~~~~~~~~\n",
      "\n",
      "default LightGBM result on CV:\n",
      "\n",
      "loss = 0.432559717355\n",
      "best_n_estimators = 1\n",
      "roc_auc = 0.732477\n",
      "accuracy = 0.860000\n",
      "params = {'boosting_type': 'gbdt', 'colsample_bytree': 1, 'drop_rate': 0.1, 'is_unbalance': False, 'learning_rate': 0.1, 'max_bin': 255, 'min_data_in_leaf': 20, 'max_depth': -1, 'max_drop': 50, 'min_child_samples': 10, 'min_child_weight': 5, 'min_split_gain': 0, 'min_sum_hessian_in_leaf': 0.001, 'lambda_l1': 0, 'lambda_l2': 0, 'nthread': 4, 'num_threads': 4, 'num_leaves': 31, 'reg_alpha': 0, 'reg_lambda': 0, 'scale_pos_weight': 1, 'seed': 0, 'sigmoid': 1.0, 'skip_drop': 0.5, 'subsample': 1, 'subsample_for_bin': 50000, 'subsample_freq': 1, 'uniform_drop': False, 'xgboost_dart_mode': False, 'objective': 'binary', 'metric': 'binary_logloss', 'bagging_freq': 1, 'verbose': -1}\n",
      "\n",
      "default LightGBM result on TEST:\n",
      "\n",
      "loss = 0.642003341637\n",
      "n_estimators = 1\n",
      "roc_auc = 0.637366\n",
      "accuracy = 0.812000\n",
      "params = {'boosting_type': 'gbdt', 'colsample_bytree': 1, 'drop_rate': 0.1, 'is_unbalance': False, 'learning_rate': 0.1, 'max_bin': 255, 'min_data_in_leaf': 20, 'max_depth': -1, 'max_drop': 50, 'min_child_samples': 10, 'min_child_weight': 5, 'min_split_gain': 0, 'min_sum_hessian_in_leaf': 0.001, 'lambda_l1': 0, 'lambda_l2': 0, 'nthread': 4, 'num_threads': 4, 'num_leaves': 31, 'reg_alpha': 0, 'reg_lambda': 0, 'scale_pos_weight': 1, 'seed': 0, 'sigmoid': 1.0, 'skip_drop': 0.5, 'subsample': 1, 'subsample_for_bin': 50000, 'subsample_freq': 1, 'uniform_drop': False, 'xgboost_dart_mode': False, 'objective': 'binary', 'metric': 'binary_logloss', 'bagging_freq': 1, 'verbose': -1}\n",
      "Hyperopt iterations:\n",
      "\n",
      "\n",
      "[1/2]\teval_time=0.04 sec\tcurrent_logloss=0.693147\tmin_logloss=0.693147\n",
      "[2/2]\teval_time=0.20 sec\tcurrent_logloss=0.633345\tmin_logloss=0.633345\n",
      "saved state to results/tracker_test_LightGBM.pickle\n",
      "\n",
      "tuned LightGBM result on CV:\n",
      "\n",
      "loss = 0.6333449333363612\n",
      "best_n_estimators = 1\n",
      "roc_auc = 0.766745\n",
      "accuracy = 0.856000\n",
      "params = {'bagging_fraction': 0.6278474089136892, 'feature_fraction': 0.5292435929542255, 'lambda_l1': 1.000657505552681, 'lambda_l2': 0.0008064719242845735, 'learning_rate': 0.0025275717184566064, 'min_data_in_leaf': 10, 'min_sum_hessian_in_leaf': 4.1073662953607967e-07, 'num_leaves': 137, 'objective': 'binary', 'metric': 'binary_logloss', 'bagging_freq': 1, 'verbose': -1, 'max_bin': 255}\n",
      "\n",
      "tuned LightGBM result on TEST:\n",
      "\n",
      "loss = 0.69175461912\n",
      "n_estimators = 1\n",
      "roc_auc = 0.662470\n",
      "accuracy = 0.824000\n",
      "params = {'bagging_fraction': 0.6278474089136892, 'feature_fraction': 0.5292435929542255, 'lambda_l1': 1.000657505552681, 'lambda_l2': 0.0008064719242845735, 'learning_rate': 0.0025275717184566064, 'min_data_in_leaf': 10, 'min_sum_hessian_in_leaf': 4.1073662953607967e-07, 'num_leaves': 137, 'objective': 'binary', 'metric': 'binary_logloss', 'bagging_freq': 1, 'verbose': -1, 'max_bin': 255}\n",
      "saved state to results/tracker_test_LightGBM.pickle\n",
      "\n",
      "~~~~~~~~~~~~~~~~~~~~ RandomForestClassifier ~~~~~~~~~~~~~~~~~~~~\n",
      "\n",
      "default RandomForestClassifier result on CV:\n",
      "\n",
      "loss = 0.854259117188\n",
      "best_n_estimators = 2\n",
      "roc_auc = 0.780504\n",
      "accuracy = 0.856000\n",
      "params = {'max_depth': 1, 'max_features': 4, 'n_estimators': 10, 'criterion': 'gini', 'verbose': 0, 'min_samples_split': 2, 'min_samples_leaf': 1, 'min_weight_fraction_leaf': 0.0, 'min_impurity_split': 1e-07}\n",
      "\n",
      "default RandomForestClassifier result on TEST:\n",
      "\n",
      "loss = 0.892441576471\n",
      "n_estimators = 2\n",
      "roc_auc = 0.573571\n",
      "accuracy = 0.836000\n",
      "params = {'max_depth': 1, 'max_features': 4, 'n_estimators': 10, 'criterion': 'gini', 'verbose': 0, 'min_samples_split': 2, 'min_samples_leaf': 1, 'min_weight_fraction_leaf': 0.0, 'min_impurity_split': 1e-07}\n",
      "Hyperopt iterations:\n",
      "\n",
      "\n",
      "[1/2]\teval_time=0.33 sec\tcurrent_logloss=0.854930\tmin_logloss=0.854930\n",
      "[2/2]\teval_time=0.34 sec\tcurrent_logloss=0.854200\tmin_logloss=0.854200\n",
      "saved state to results/tracker_test_RandomForestClassifier.pickle\n",
      "\n",
      "tuned RandomForestClassifier result on CV:\n",
      "\n",
      "loss = 0.8542\n",
      "best_n_estimators = 2\n",
      "roc_auc = 0.814901\n",
      "accuracy = 0.844000\n",
      "params = {'criterion': 'entropy', 'max_depth': 17, 'max_features': 3, 'min_samples_leaf': 4.0, 'min_samples_split': 9.0, 'n_estimators': 2, 'verbose': 0}\n",
      "\n",
      "tuned RandomForestClassifier result on TEST:\n",
      "\n",
      "loss = 0.0\n",
      "n_estimators = 2\n",
      "roc_auc = 0.601146\n",
      "accuracy = 0.714000\n",
      "params = {'criterion': 'entropy', 'max_depth': 17, 'max_features': 3, 'min_samples_leaf': 4.0, 'min_samples_split': 9.0, 'n_estimators': 2, 'verbose': 0}\n",
      "saved state to results/tracker_test_RandomForestClassifier.pickle\n"
     ]
    }
   ],
   "source": [
    "for model_class in CANDIDATES.values():\n",
    "    model = model_class(TASK_CLASSIFICATION)\n",
    "    name = model.get_name()\n",
    "    print(\"\\n\" + \"~\" * 20, name, \"~\" * 20)\n",
    "    trackers[name] = tracker_factory(model_name=name)\n",
    "    if LOAD_CACHE:\n",
    "        all_metrics[name] = trackers[name].load_state()\n",
    "\n",
    "    gym_training(trainer, model, all_metrics, trackers, cv_pairs, dtrain, dtest, 'default')\n",
    "    gym_training(trainer, model, all_metrics, trackers, cv_pairs, dtrain, dtest, 'tuned')\n",
    "\n",
    "    trackers[name].save_state()"
   ]
  },
  {
   "cell_type": "markdown",
   "metadata": {},
   "source": [
    "## Compare"
   ]
  },
  {
   "cell_type": "code",
   "execution_count": 10,
   "metadata": {
    "collapsed": true
   },
   "outputs": [],
   "source": [
    "full_results = {}\n",
    "for i in CANDIDATES.keys():\n",
    "    if i in trackers:\n",
    "        tracker = trackers[i]\n",
    "    else:\n",
    "        tracker = tracker_factory(model_name=i)\n",
    "        tracker.load_state()\n",
    "    full_results.update({i:{'tuned': tracker.state['tuned_test'], 'default': tracker.state['default_test']}})"
   ]
  },
  {
   "cell_type": "code",
   "execution_count": 11,
   "metadata": {
    "scrolled": false
   },
   "outputs": [],
   "source": [
    "\n",
    "from modelgym.report import Report\n",
    "\n",
    "rep = Report(results=full_results, models_dict=CANDIDATES,\n",
    "             models_holder=trackers,\n",
    "             test_set=dtest, metrics=custom_metrics,\n",
    "             task_type=TASK_CLASSIFICATION)"
   ]
  },
  {
   "cell_type": "markdown",
   "metadata": {},
   "source": [
    "### Plots"
   ]
  },
  {
   "cell_type": "code",
   "execution_count": 12,
   "metadata": {
    "scrolled": false
   },
   "outputs": [
    {
     "name": "stdout",
     "output_type": "stream",
     "text": [
      "\n",
      "~~~~~~~~~~~~~~~~~~~~~~~~~~~~~~~~~~~~~~~~~~~~~~~    roc_auc    ~~~~~~~~~~~~~~~~~~~~~~~~~~~~~~~~~~~~~~~~~~~~~~~\n",
      "\n"
     ]
    },
    {
     "data": {
      "image/png": "[encoded data removed]",
      "text/plain": [
       "<matplotlib.figure.Figure at 0x1033d6630>"
      ]
     },
     "metadata": {},
     "output_type": "display_data"
    },
    {
     "name": "stdout",
     "output_type": "stream",
     "text": [
      "\n",
      "~~~~~~~~~~~~~~~~~~~~~~~~~~~~~~~~~~~~~~~~~~~~~~    accuracy    ~~~~~~~~~~~~~~~~~~~~~~~~~~~~~~~~~~~~~~~~~~~~~~~\n",
      "\n"
     ]
    },
    {
     "data": {
      "image/png": "[encoded data removed]",
      "text/plain": [
       "<matplotlib.figure.Figure at 0x11cbc2940>"
      ]
     },
     "metadata": {},
     "output_type": "display_data"
    }
   ],
   "source": [
    "rep.plot_all_metrics()"
   ]
  },
  {
   "cell_type": "markdown",
   "metadata": {},
   "source": [
    "### Check quality differences"
   ]
  },
  {
   "cell_type": "code",
   "execution_count": 13,
   "metadata": {},
   "outputs": [
    {
     "name": "stdout",
     "output_type": "stream",
     "text": [
      "\n",
      "~~~~~~~~~~~~~~~~~~~~~~~~~~~~~~~~~~~~~~~~~~~~~~~    roc_auc    ~~~~~~~~~~~~~~~~~~~~~~~~~~~~~~~~~~~~~~~~~~~~~~~\n",
      "\n",
      "                                   default               tuned\n",
      "XGBoost                 0.633497 (+10.45%)   0.595521 (+3.83%)\n",
      "LightGBM                0.637366 (+11.12%)  0.662470 (+15.50%)\n",
      "RandomForestClassifier   0.573571 (+0.00%)   0.601146 (+4.81%)\n",
      "\n",
      "~~~~~~~~~~~~~~~~~~~~~~~~~~~~~~~~~~~~~~~~~~~~~~    accuracy    ~~~~~~~~~~~~~~~~~~~~~~~~~~~~~~~~~~~~~~~~~~~~~~~\n",
      "\n",
      "                                   default               tuned\n",
      "XGBoost                 0.832000 (+16.53%)  0.806000 (+12.89%)\n",
      "LightGBM                0.812000 (+13.73%)  0.824000 (+15.41%)\n",
      "RandomForestClassifier  0.836000 (+17.09%)   0.714000 (-0.00%)\n"
     ]
    }
   ],
   "source": [
    "rep.print_all_metric_results()"
   ]
  },
  {
   "cell_type": "markdown",
   "metadata": {},
   "source": [
    "### Check correlation maps"
   ]
  },
  {
   "cell_type": "code",
   "execution_count": 14,
   "metadata": {
    "scrolled": false
   },
   "outputs": [
    {
     "name": "stdout",
     "output_type": "stream",
     "text": [
      "\n",
      "~~~~~~~~~~~~~~~~~~~~~~~~~~~~~~~~~~~~~~~~~~~~~~~    roc_auc    ~~~~~~~~~~~~~~~~~~~~~~~~~~~~~~~~~~~~~~~~~~~~~~~\n",
      "\n"
     ]
    },
    {
     "data": {
      "image/png": "[encoded data removed]",
      "text/plain": [
       "<matplotlib.figure.Figure at 0x11cf58cf8>"
      ]
     },
     "metadata": {},
     "output_type": "display_data"
    },
    {
     "name": "stdout",
     "output_type": "stream",
     "text": [
      "\n",
      "~~~~~~~~~~~~~~~~~~~~~~~~~~~~~~~~~~~~~~~~~~~~~~    accuracy    ~~~~~~~~~~~~~~~~~~~~~~~~~~~~~~~~~~~~~~~~~~~~~~~\n",
      "\n"
     ]
    },
    {
     "data": {
      "image/png": "[encoded data removed]",
      "text/plain": [
       "<matplotlib.figure.Figure at 0x11cf80160>"
      ]
     },
     "metadata": {},
     "output_type": "display_data"
    }
   ],
   "source": [
    "rep.plot_heatmaps()"
   ]
  },
  {
   "cell_type": "code",
   "execution_count": 18,
   "metadata": {
    "collapsed": true
   },
   "outputs": [],
   "source": [
    "# You can glance at everything at once using the following:\n",
    "# rep.summary()"
   ]
  },
  {
   "cell_type": "markdown",
   "metadata": {},
   "source": [
    "# Compare models with stat test"
   ]
  },
  {
   "cell_type": "markdown",
   "metadata": {},
   "source": [
    "## Compare that out tuned RF model is statistically better than default"
   ]
  },
  {
   "cell_type": "code",
   "execution_count": 15,
   "metadata": {
    "scrolled": false
   },
   "outputs": [
    {
     "name": "stdout",
     "output_type": "stream",
     "text": [
      "Two models are different: False, p-value [[ 0.99343407]]\n"
     ]
    }
   ],
   "source": [
    "from sklearn.ensemble import RandomForestClassifier\n",
    "default_rf_model = RandomForestClassifier()\n",
    "default_rf_model.fit(dtrain.X, dtrain.y)\n",
    "\n",
    "tuned_rf_model = full_results['RandomForestClassifier']['tuned']['bst']\n",
    "\n",
    "print('Two models are different: {}, p-value {}'.format(\n",
    "    *modelgym.util.compare_models_different(tuned_rf_model, default_rf_model, dtest)\n",
    "))"
   ]
  },
  {
   "cell_type": "markdown",
   "metadata": {},
   "source": [
    "## Compare default LightGBM and default RF"
   ]
  },
  {
   "cell_type": "code",
   "execution_count": 16,
   "metadata": {},
   "outputs": [
    {
     "name": "stdout",
     "output_type": "stream",
     "text": [
      "Two models are different: True, p-value [[  5.99814530e-06]]\n"
     ]
    }
   ],
   "source": [
    "import lightgbm\n",
    "default_lightGBM_model = lightgbm.LGBMClassifier()\n",
    "default_lightGBM_model.fit(dtrain.X, dtrain.y)\n",
    "\n",
    "print('Two models are different: {}, p-value {}'.format(\n",
    "    *modelgym.util.compare_models_different(default_lightGBM_model, default_rf_model, dtest)\n",
    "))"
   ]
  },
  {
   "cell_type": "code",
   "execution_count": null,
   "metadata": {
    "collapsed": true
   },
   "outputs": [],
   "source": []
  }
 ],
 "metadata": {
  "kernelspec": {
   "display_name": "Python 3",
   "language": "python",
   "name": "python3"
  },
  "language_info": {
   "codemirror_mode": {
    "name": "ipython",
    "version": 3
   },
   "file_extension": ".py",
   "mimetype": "text/x-python",
   "name": "python",
   "nbconvert_exporter": "python",
   "pygments_lexer": "ipython3",
   "version": "3.6.2"
  }
 },
 "nbformat": 4,
 "nbformat_minor": 1
}
